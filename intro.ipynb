{
 "cells": [
  {
   "cell_type": "code",
   "execution_count": null,
   "id": "Hbol",
   "metadata": {},
   "outputs": [
    {
     "data": {
      "image/png": "[encoded data removed]"
     },
     "metadata": {},
     "output_type": "display_data"
    }
   ],
   "source": [
    "import matplotlib.pyplot as plt\n",
    "\n",
    "plt.plot([1, 2])\n",
    "plt.gca()"
   ]
  },
  {
   "cell_type": "code",
   "execution_count": null,
   "id": "MJUe",
   "metadata": {},
   "outputs": [
    {
     "data": {
      "text/html": [
       "<span class=\"markdown prose dark:prose-invert\"><h1 id=\"welcome-to-marimo\">Welcome to marimo! 🌊🍃</h1></span>"
      ]
     },
     "metadata": {},
     "output_type": "display_data"
    }
   ],
   "source": [
    "import marimo as mo\n",
    "\n",
    "mo.md(\"# Welcome to marimo! 🌊🍃\")"
   ]
  },
  {
   "cell_type": "code",
   "execution_count": null,
   "id": "vblA",
   "metadata": {},
   "outputs": [],
   "source": [
    "slider = mo.ui.slider(1, 22)"
   ]
  },
  {
   "cell_type": "code",
   "execution_count": null,
   "id": "bkHC",
   "metadata": {},
   "outputs": [
    {
     "data": {
      "text/html": [
       "<span class=\"markdown prose dark:prose-invert\"><span class=\"paragraph\">marimo is a <strong>reactive</strong> Python notebook.</span>\n",
       "<span class=\"paragraph\">This means that unlike traditional notebooks, marimo notebooks <strong>run\n",
       "automatically</strong> when you modify them or\n",
       "interact with UI elements, like this slider: <marimo-ui-element object-id='MJUe-0' random-id='8fdac69a-5ee1-568e-c275-e831e3655397'><marimo-slider data-initial-value='1' data-label='null' data-start='1' data-stop='22' data-steps='[]' data-debounce='false' data-disabled='false' data-orientation='&quot;horizontal&quot;' data-show-value='false' data-include-input='false' data-full-width='false'></marimo-slider></marimo-ui-element>.</span>\n",
       "<h2 id=\"_1\">🍃</h2></span>"
      ]
     },
     "metadata": {},
     "output_type": "display_data"
    }
   ],
   "source": [
    "mo.md(\n",
    "    f\"\"\"\n",
    "marimo is a **reactive** Python notebook.\n",
    "\n",
    "This means that unlike traditional notebooks, marimo notebooks **run\n",
    "automatically** when you modify them or\n",
    "interact with UI elements, like this slider: {slider}.\n",
    "\n",
    "{\"##\" + \"🍃\" * slider.value}\n",
    "\"\"\"\n",
    ")"
   ]
  },
  {
   "cell_type": "code",
   "execution_count": null,
   "id": "lEQa",
   "metadata": {
    "marimo": {
     "config": {
      "hide_code": true
     }
    }
   },
   "outputs": [
    {
     "data": {
      "text/html": [
       "<marimo-accordion data-labels='[&quot;&lt;span class=&#92;&quot;markdown prose dark:prose-invert&#92;&quot;&gt;&lt;span class=&#92;&quot;paragraph&#92;&quot;&gt;Tip: disabling automatic execution&lt;/span&gt;&lt;/span&gt;&quot;]' data-multiple='false'><div><span class=\"markdown prose dark:prose-invert\"><span class=\"paragraph\">marimo lets you disable automatic execution: just go into the\n",
       "notebook settings and set</span>\n",
       "<span class=\"paragraph\">\"Runtime &gt; On Cell Change\" to \"lazy\".</span>\n",
       "<span class=\"paragraph\">When the runtime is lazy, after running a cell, marimo marks its\n",
       "descendants as stale instead of automatically running them. The\n",
       "lazy runtime puts you in control over when cells are run, while\n",
       "still giving guarantees about the notebook state.</span></span></div></marimo-accordion>"
      ]
     },
     "metadata": {},
     "output_type": "display_data"
    }
   ],
   "source": [
    "mo.accordion(\n",
    "    {\n",
    "        \"Tip: disabling automatic execution\": mo.md(\n",
    "            rf\"\"\"\n",
    "        marimo lets you disable automatic execution: just go into the\n",
    "        notebook settings and set\n",
    "\n",
    "        \"Runtime > On Cell Change\" to \"lazy\".\n",
    "\n",
    "        When the runtime is lazy, after running a cell, marimo marks its\n",
    "        descendants as stale instead of automatically running them. The\n",
    "        lazy runtime puts you in control over when cells are run, while\n",
    "        still giving guarantees about the notebook state.\n",
    "        \"\"\"\n",
    "        )\n",
    "    }\n",
    ")"
   ]
  },
  {
   "cell_type": "code",
   "execution_count": null,
   "id": "PKri",
   "metadata": {
    "marimo": {
     "config": {
      "hide_code": true
     }
    }
   },
   "outputs": [
    {
     "data": {
      "text/html": [
       "<marimo-callout-output data-html='&quot;&lt;span class=&#92;&quot;markdown prose dark:prose-invert&#92;&quot;&gt;&lt;span class=&#92;&quot;paragraph&#92;&quot;&gt;Tip: This is a tutorial notebook. You can create your own notebooks&#92;nby entering &lt;code&gt;marimo edit&lt;/code&gt; at the command line.&lt;/span&gt;&lt;/span&gt;&quot;' data-kind='&quot;neutral&quot;'></marimo-callout-output>"
      ]
     },
     "metadata": {},
     "output_type": "display_data"
    }
   ],
   "source": [
    "mo.md(\n",
    "    \"\"\"\n",
    "    Tip: This is a tutorial notebook. You can create your own notebooks\n",
    "    by entering `marimo edit` at the command line.\n",
    "    \"\"\"\n",
    ").callout()"
   ]
  },
  {
   "cell_type": "markdown",
   "id": "Xref",
   "metadata": {
    "marimo": {
     "config": {
      "hide_code": true
     }
    }
   },
   "source": [
    "## 1. Reactive execution\n",
    "\n",
    "A marimo notebook is made up of small blocks of Python code called\n",
    "cells.\n",
    "\n",
    "marimo reads your cells and models the dependencies among them: whenever\n",
    "a cell that defines a global variable  is run, marimo\n",
    "**automatically runs** all cells that reference that variable.\n",
    "\n",
    "Reactivity keeps your program state and outputs in sync with your code,\n",
    "making for a dynamic programming environment that prevents bugs before they\n",
    "happen."
   ]
  },
  {
   "cell_type": "code",
   "execution_count": null,
   "id": "SFPL",
   "metadata": {
    "marimo": {
     "config": {
      "hide_code": true
     }
    }
   },
   "outputs": [
    {
     "data": {
      "text/html": [
       "<span class=\"markdown prose dark:prose-invert\"><span class=\"paragraph\"><strong>🌊 See it in action.</strong> In the next cell, change the value of the\n",
       "variable  <code>changed</code> to <code>True</code>, then click the run button.</span></span>"
      ]
     },
     "metadata": {},
     "output_type": "display_data"
    }
   ],
   "source": [
    "(\n",
    "    mo.md(\n",
    "        f\"\"\"\n",
    "        **✨ Nice!** The value of `changed` is now {changed}.\n",
    "\n",
    "        When you updated the value of the variable `changed`, marimo\n",
    "        **reacted** by running this cell automatically, because this cell\n",
    "        references the global variable `changed`.\n",
    "\n",
    "        Reactivity ensures that your notebook state is always\n",
    "        consistent, which is crucial for doing good science; it's also what\n",
    "        enables marimo notebooks to double as tools and  apps.\n",
    "        \"\"\"\n",
    "    )\n",
    "    if changed\n",
    "    else mo.md(\n",
    "        \"\"\"\n",
    "        **🌊 See it in action.** In the next cell, change the value of the\n",
    "        variable  `changed` to `True`, then click the run button.\n",
    "        \"\"\"\n",
    "    )\n",
    ")"
   ]
  },
  {
   "cell_type": "code",
   "execution_count": null,
   "id": "BYtC",
   "metadata": {},
   "outputs": [],
   "source": [
    "changed = False"
   ]
  },
  {
   "cell_type": "code",
   "execution_count": null,
   "id": "RGSE",
   "metadata": {
    "marimo": {
     "config": {
      "hide_code": true
     }
    }
   },
   "outputs": [
    {
     "data": {
      "text/html": [
       "<marimo-accordion data-labels='[&quot;&lt;span class=&#92;&quot;markdown prose dark:prose-invert&#92;&quot;&gt;&lt;span class=&#92;&quot;paragraph&#92;&quot;&gt;Tip: execution order&lt;/span&gt;&lt;/span&gt;&quot;]' data-multiple='false'><div><span class=\"markdown prose dark:prose-invert\"><span class=\"paragraph\">The order of cells on the page has no bearing on\n",
       "the order in which cells are executed: marimo knows that a cell\n",
       "reading a variable must run after the cell that  defines it. This\n",
       "frees you to organize your code in the way that makes the most\n",
       "sense for you.</span></span></div></marimo-accordion>"
      ]
     },
     "metadata": {},
     "output_type": "display_data"
    }
   ],
   "source": [
    "mo.accordion(\n",
    "    {\n",
    "        \"Tip: execution order\": (\n",
    "            \"\"\"\n",
    "            The order of cells on the page has no bearing on\n",
    "            the order in which cells are executed: marimo knows that a cell\n",
    "            reading a variable must run after the cell that  defines it. This\n",
    "            frees you to organize your code in the way that makes the most\n",
    "            sense for you.\n",
    "            \"\"\"\n",
    "        )\n",
    "    }\n",
    ")"
   ]
  },
  {
   "cell_type": "markdown",
   "id": "Kclp",
   "metadata": {
    "marimo": {
     "config": {
      "hide_code": true
     }
    }
   },
   "source": [
    "**Global names must be unique.** To enable reactivity, marimo imposes a\n",
    "constraint on how names appear in cells: no two cells may define the same\n",
    "variable."
   ]
  },
  {
   "cell_type": "code",
   "execution_count": null,
   "id": "emfo",
   "metadata": {
    "marimo": {
     "config": {
      "hide_code": true
     }
    }
   },
   "outputs": [
    {
     "data": {
      "text/html": [
       "<marimo-accordion data-labels='[&quot;&lt;span class=&#92;&quot;markdown prose dark:prose-invert&#92;&quot;&gt;&lt;span class=&#92;&quot;paragraph&#92;&quot;&gt;Tip: encapsulation&lt;/span&gt;&lt;/span&gt;&quot;]' data-multiple='false'><div><span class=\"markdown prose dark:prose-invert\"><span class=\"paragraph\">By encapsulating logic in functions, classes, or Python modules,\n",
       "you can minimize the number of global variables in your notebook.</span></span></div></marimo-accordion>"
      ]
     },
     "metadata": {},
     "output_type": "display_data"
    }
   ],
   "source": [
    "mo.accordion(\n",
    "    {\n",
    "        \"Tip: encapsulation\": (\n",
    "            \"\"\"\n",
    "            By encapsulating logic in functions, classes, or Python modules,\n",
    "            you can minimize the number of global variables in your notebook.\n",
    "            \"\"\"\n",
    "        )\n",
    "    }\n",
    ")"
   ]
  },
  {
   "cell_type": "code",
   "execution_count": null,
   "id": "Hstk",
   "metadata": {
    "marimo": {
     "config": {
      "hide_code": true
     }
    }
   },
   "outputs": [
    {
     "data": {
      "text/html": [
       "<marimo-accordion data-labels='[&quot;&lt;span class=&#92;&quot;markdown prose dark:prose-invert&#92;&quot;&gt;&lt;span class=&#92;&quot;paragraph&#92;&quot;&gt;Tip: private variables&lt;/span&gt;&lt;/span&gt;&quot;]' data-multiple='false'><div><span class=\"markdown prose dark:prose-invert\"><span class=\"paragraph\">Variables prefixed with an underscore are \"private\" to a cell, so\n",
       "they can be defined by multiple cells.</span></span></div></marimo-accordion>"
      ]
     },
     "metadata": {},
     "output_type": "display_data"
    }
   ],
   "source": [
    "mo.accordion(\n",
    "    {\n",
    "        \"Tip: private variables\": (\n",
    "            \"\"\"\n",
    "            Variables prefixed with an underscore are \"private\" to a cell, so\n",
    "            they can be defined by multiple cells.\n",
    "            \"\"\"\n",
    "        )\n",
    "    }\n",
    ")"
   ]
  },
  {
   "cell_type": "markdown",
   "id": "nWHF",
   "metadata": {
    "marimo": {
     "config": {
      "hide_code": true
     }
    }
   },
   "source": [
    "## 2. UI elements\n",
    "\n",
    "Cells can output interactive UI elements. Interacting with a UI\n",
    "element **automatically triggers notebook execution**: when\n",
    "you interact with a UI element, its value is sent back to Python, and\n",
    "every cell that references that element is re-run.\n",
    "\n",
    "marimo provides a library of UI elements to choose from under\n",
    "`marimo.ui`."
   ]
  },
  {
   "cell_type": "markdown",
   "id": "iLit",
   "metadata": {},
   "source": [
    "**🌊 Some UI elements.** Try interacting with the below elements."
   ]
  },
  {
   "cell_type": "code",
   "execution_count": null,
   "id": "ZHCJ",
   "metadata": {},
   "outputs": [],
   "source": [
    "icon = mo.ui.dropdown([\"🍃\", \"🌊\", \"✨\"], value=\"🍃\")"
   ]
  },
  {
   "cell_type": "code",
   "execution_count": null,
   "id": "ROlb",
   "metadata": {},
   "outputs": [],
   "source": [
    "repetitions = mo.ui.slider(1, 16, label=f\"number of {icon.value}: \")"
   ]
  },
  {
   "cell_type": "code",
   "execution_count": null,
   "id": "qnkX",
   "metadata": {},
   "outputs": [
    {
     "data": {
      "application/json": "[\"text/html:<marimo-ui-element object-id='iLit-0' random-id='b80588ba-dcb9-aea3-bca8-968c7dd3b2a0'><marimo-dropdown data-initial-value='[&quot;&#92;ud83c&#92;udf43&quot;]' data-label='null' data-options='[&quot;&#92;ud83c&#92;udf43&quot;, &quot;&#92;ud83c&#92;udf0a&quot;, &quot;&#92;u2728&quot;]' data-allow-select-none='false' data-searchable='false' data-full-width='false'></marimo-dropdown></marimo-ui-element>\", \"text/html:<marimo-ui-element object-id='ZHCJ-0' random-id='aba70823-6a54-aa63-d8d9-910ffab32283'><marimo-slider data-initial-value='1' data-label='&quot;&lt;span class=&#92;&quot;markdown prose dark:prose-invert&#92;&quot;&gt;&lt;span class=&#92;&quot;paragraph&#92;&quot;&gt;number of &#92;ud83c&#92;udf43: &lt;/span&gt;&lt;/span&gt;&quot;' data-start='1' data-stop='16' data-steps='[]' data-debounce='false' data-disabled='false' data-orientation='&quot;horizontal&quot;' data-show-value='false' data-include-input='false' data-full-width='false'></marimo-slider></marimo-ui-element>\"]"
     },
     "metadata": {},
     "output_type": "display_data"
    }
   ],
   "source": [
    "icon, repetitions"
   ]
  },
  {
   "cell_type": "code",
   "execution_count": null,
   "id": "TqIu",
   "metadata": {},
   "outputs": [
    {
     "data": {
      "text/html": [
       "<span class=\"markdown prose dark:prose-invert\"><h1 id=\"_1\">🍃</h1></span>"
      ]
     },
     "metadata": {},
     "output_type": "display_data"
    }
   ],
   "source": [
    "mo.md(\"# \" + icon.value * repetitions.value)"
   ]
  },
  {
   "cell_type": "markdown",
   "id": "Vxnm",
   "metadata": {
    "marimo": {
     "config": {
      "hide_code": true
     }
    }
   },
   "source": [
    "## 3. marimo is just Python\n",
    "\n",
    "marimo cells parse Python (and only Python), and marimo notebooks are\n",
    "stored as pure Python files — outputs are _not_ included. There's no\n",
    "magical syntax.\n",
    "\n",
    "The Python files generated by marimo are:\n",
    "\n",
    "- easily versioned with git, yielding minimal diffs\n",
    "- legible for both humans and machines\n",
    "- formattable using your tool of choice,\n",
    "- usable as Python  scripts, with UI  elements taking their default\n",
    "values, and\n",
    "- importable by other modules (more on that in the future)."
   ]
  },
  {
   "cell_type": "markdown",
   "id": "DnEU",
   "metadata": {
    "marimo": {
     "config": {
      "hide_code": true
     }
    }
   },
   "source": [
    "## 4. Running notebooks as apps\n",
    "\n",
    "marimo notebooks can double as apps. Click the app window icon in the\n",
    "bottom-right to see this notebook in \"app view.\"\n",
    "\n",
    "Serve a notebook as an app with `marimo run` at the command-line.\n",
    "Of course, you can use marimo just to level-up your\n",
    "notebooking, without ever making apps."
   ]
  },
  {
   "cell_type": "markdown",
   "id": "ulZA",
   "metadata": {
    "marimo": {
     "config": {
      "hide_code": true
     }
    }
   },
   "source": [
    "## 5. The `marimo` command-line tool\n",
    "\n",
    "**Creating and editing notebooks.** Use\n",
    "\n",
    "```\n",
    "marimo edit\n",
    "```\n",
    "\n",
    "in a terminal to start the marimo notebook server. From here\n",
    "you can create a new notebook or edit existing ones.\n",
    "\n",
    "\n",
    "**Running as apps.** Use\n",
    "\n",
    "```\n",
    "marimo run notebook.py\n",
    "```\n",
    "\n",
    "to start a webserver that serves your notebook as an app in read-only mode,\n",
    "with code cells hidden.\n",
    "\n",
    "**Convert a Jupyter notebook.** Convert a Jupyter notebook to a marimo\n",
    "notebook using `marimo convert`:\n",
    "\n",
    "```\n",
    "marimo convert your_notebook.ipynb > your_app.py\n",
    "```\n",
    "\n",
    "**Tutorials.** marimo comes packaged with tutorials:\n",
    "\n",
    "- `dataflow`: more on marimo's automatic execution\n",
    "- `ui`: how to use UI elements\n",
    "- `markdown`: how to write markdown, with interpolated values and\n",
    "   LaTeX\n",
    "- `plots`: how plotting works in marimo\n",
    "- `sql`: how to use SQL\n",
    "- `layout`: layout elements in marimo\n",
    "- `fileformat`: how marimo's file format works\n",
    "- `markdown-format`: for using `.md` files in marimo\n",
    "- `for-jupyter-users`: if you are coming from Jupyter\n",
    "\n",
    "Start a tutorial with `marimo tutorial`; for example,\n",
    "\n",
    "```\n",
    "marimo tutorial dataflow\n",
    "```\n",
    "\n",
    "In addition to tutorials, we have examples in our\n",
    "[our GitHub repo](https://www.github.com/marimo-team/marimo/tree/main/examples)."
   ]
  },
  {
   "cell_type": "markdown",
   "id": "ecfG",
   "metadata": {
    "marimo": {
     "config": {
      "hide_code": true
     }
    }
   },
   "source": [
    "## 6. The marimo editor\n",
    "\n",
    "Here are some tips to help you get started with the marimo editor."
   ]
  },
  {
   "cell_type": "code",
   "execution_count": null,
   "id": "Pvdt",
   "metadata": {},
   "outputs": [
    {
     "data": {
      "text/html": [
       "<marimo-accordion data-labels='[&quot;&lt;span class=&#92;&quot;markdown prose dark:prose-invert&#92;&quot;&gt;&lt;span class=&#92;&quot;paragraph&#92;&quot;&gt;Saving&lt;/span&gt;&lt;/span&gt;&quot;, &quot;&lt;span class=&#92;&quot;markdown prose dark:prose-invert&#92;&quot;&gt;&lt;span class=&#92;&quot;paragraph&#92;&quot;&gt;Running&lt;/span&gt;&lt;/span&gt;&quot;, &quot;&lt;span class=&#92;&quot;markdown prose dark:prose-invert&#92;&quot;&gt;&lt;span class=&#92;&quot;paragraph&#92;&quot;&gt;Console Output&lt;/span&gt;&lt;/span&gt;&quot;, &quot;&lt;span class=&#92;&quot;markdown prose dark:prose-invert&#92;&quot;&gt;&lt;span class=&#92;&quot;paragraph&#92;&quot;&gt;Creating, Moving, and Deleting Cells&lt;/span&gt;&lt;/span&gt;&quot;, &quot;&lt;span class=&#92;&quot;markdown prose dark:prose-invert&#92;&quot;&gt;&lt;span class=&#92;&quot;paragraph&#92;&quot;&gt;Disabling Automatic Execution&lt;/span&gt;&lt;/span&gt;&quot;, &quot;&lt;span class=&#92;&quot;markdown prose dark:prose-invert&#92;&quot;&gt;&lt;span class=&#92;&quot;paragraph&#92;&quot;&gt;Disabling Cells&lt;/span&gt;&lt;/span&gt;&quot;, &quot;&lt;span class=&#92;&quot;markdown prose dark:prose-invert&#92;&quot;&gt;&lt;span class=&#92;&quot;paragraph&#92;&quot;&gt;Code Folding&lt;/span&gt;&lt;/span&gt;&quot;, &quot;&lt;span class=&#92;&quot;markdown prose dark:prose-invert&#92;&quot;&gt;&lt;span class=&#92;&quot;paragraph&#92;&quot;&gt;Code Formatting&lt;/span&gt;&lt;/span&gt;&quot;, &quot;&lt;span class=&#92;&quot;markdown prose dark:prose-invert&#92;&quot;&gt;&lt;span class=&#92;&quot;paragraph&#92;&quot;&gt;Command Palette&lt;/span&gt;&lt;/span&gt;&quot;, &quot;&lt;span class=&#92;&quot;markdown prose dark:prose-invert&#92;&quot;&gt;&lt;span class=&#92;&quot;paragraph&#92;&quot;&gt;Keyboard Shortcuts&lt;/span&gt;&lt;/span&gt;&quot;, &quot;&lt;span class=&#92;&quot;markdown prose dark:prose-invert&#92;&quot;&gt;&lt;span class=&#92;&quot;paragraph&#92;&quot;&gt;Configuration&lt;/span&gt;&lt;/span&gt;&quot;, &quot;&lt;span class=&#92;&quot;markdown prose dark:prose-invert&#92;&quot;&gt;&lt;span class=&#92;&quot;paragraph&#92;&quot;&gt;Exit &amp;amp; Shutdown&lt;/span&gt;&lt;/span&gt;&quot;]' data-multiple='false'><div><span class=\"markdown prose dark:prose-invert\"><span class=\"paragraph\"><strong>Saving</strong></span>\n",
       "<ul>\n",
       "<li>\n",
       "<span class=\"paragraph\"><em>Name</em> your app using the box at the top of the screen, or\n",
       "  with <code>Ctrl/Cmd+s</code>. You can also create a named app at the\n",
       "  command line, e.g., <code>marimo edit app_name.py</code>.</span>\n",
       "</li>\n",
       "<li>\n",
       "<span class=\"paragraph\"><em>Save</em> by clicking the save icon on the bottom right, or by\n",
       "  inputting <code>Ctrl/Cmd+s</code>. By default marimo is configured\n",
       "  to autosave.</span>\n",
       "</li>\n",
       "</ul></span></div><div><span class=\"markdown prose dark:prose-invert\"><ol>\n",
       "<li>\n",
       "<span class=\"paragraph\"><em>Run a cell</em> by clicking the play ( ▷ ) button on the top\n",
       "right of a cell, or by inputting <code>Ctrl/Cmd+Enter</code>.</span>\n",
       "</li>\n",
       "<li>\n",
       "<span class=\"paragraph\"><em>Run a stale cell</em>  by clicking the yellow run button on the\n",
       "right of the cell, or by inputting <code>Ctrl/Cmd+Enter</code>. A cell is\n",
       "stale when its code has been modified but not run.</span>\n",
       "</li>\n",
       "<li>\n",
       "<span class=\"paragraph\"><em>Run all stale cells</em> by clicking the play ( ▷ ) button on\n",
       "the bottom right of the screen, or input <code>Ctrl/Cmd+Shift+r</code>.</span>\n",
       "</li>\n",
       "</ol></span></div><div><span class=\"markdown prose dark:prose-invert\"><span class=\"paragraph\">Console output (e.g., <code>print()</code> statements) is shown below a\n",
       "cell.</span></span></div><div><span class=\"markdown prose dark:prose-invert\"><ol>\n",
       "<li>\n",
       "<span class=\"paragraph\"><em>Create</em> a new cell above or below a given one by clicking\n",
       "    the plus button to the left of the cell, which appears on\n",
       "    mouse hover.</span>\n",
       "</li>\n",
       "<li>\n",
       "<span class=\"paragraph\"><em>Move</em> a cell up or down by dragging on the handle to the \n",
       "    right of the cell, which appears on mouse hover.</span>\n",
       "</li>\n",
       "<li>\n",
       "<span class=\"paragraph\"><em>Delete</em> a cell by clicking the trash bin icon. Bring it\n",
       "    back by clicking the undo button on the bottom right of the\n",
       "    screen, or with <code>Ctrl/Cmd+Shift+z</code>.</span>\n",
       "</li>\n",
       "</ol></span></div><div><span class=\"markdown prose dark:prose-invert\"><span class=\"paragraph\">Via the notebook settings (gear icon) or footer panel, you\n",
       "can disable automatic execution. This is helpful when\n",
       "working with expensive notebooks or notebooks that have\n",
       "side-effects like database transactions.</span></span></div><div><span class=\"markdown prose dark:prose-invert\"><span class=\"paragraph\">You can disable a cell via the cell context menu.\n",
       "marimo will never run a disabled cell or any cells that depend on it.\n",
       "This can help prevent accidental execution of expensive computations\n",
       "when editing a notebook.</span></span></div><div><span class=\"markdown prose dark:prose-invert\"><span class=\"paragraph\">You can collapse or fold the code in a cell by clicking the arrow\n",
       "icons in the line number column to the left, or by using keyboard\n",
       "shortcuts.</span>\n",
       "<span class=\"paragraph\">Use the command palette (<code>Ctrl/Cmd+k</code>) or a keyboard shortcut to\n",
       "quickly fold or unfold all cells.</span></span></div><div><span class=\"markdown prose dark:prose-invert\"><span class=\"paragraph\">If you have <a href=\"https://github.com/astral-sh/ruff\" rel=\"noopener\" target=\"_blank\">ruff</a> installed,\n",
       "you can format a cell with the keyboard shortcut <code>Ctrl/Cmd+b</code>.</span></span></div><div><span class=\"markdown prose dark:prose-invert\"><span class=\"paragraph\">Use <code>Ctrl/Cmd+k</code> to open the command palette.</span></span></div><div><span class=\"markdown prose dark:prose-invert\"><span class=\"paragraph\">Open the notebook menu (top-right) or input <code>Ctrl/Cmd+Shift+h</code> to\n",
       "view a list of all keyboard shortcuts.</span></span></div><div><span class=\"markdown prose dark:prose-invert\"><span class=\"paragraph\">Configure the editor by clicking the gears icon near the top-right\n",
       "of the screen.</span></span></div><div><span class=\"markdown prose dark:prose-invert\"><span class=\"paragraph\">You can leave Marimo &amp; shut down the server by clicking the\n",
       "circled X at the top right of the screen and responding\n",
       "to the prompt. </span>\n",
       "<span class=\"paragraph\">💾 <em>Be sure to save your work first!</em> </span></span></div></marimo-accordion>"
      ]
     },
     "metadata": {},
     "output_type": "display_data"
    }
   ],
   "source": [
    "mo.accordion(tips)"
   ]
  },
  {
   "cell_type": "markdown",
   "id": "ZBYS",
   "metadata": {
    "marimo": {
     "config": {
      "hide_code": true
     }
    }
   },
   "source": [
    "## Finally, a fun fact"
   ]
  },
  {
   "cell_type": "markdown",
   "id": "aLJB",
   "metadata": {
    "marimo": {
     "config": {
      "hide_code": true
     }
    }
   },
   "source": [
    "The name \"marimo\" is a reference to a type of algae that, under\n",
    "the right conditions, clumps together to form a small sphere\n",
    "called a \"marimo moss ball\". Made of just strands of algae, these\n",
    "beloved assemblages are greater than the sum of their parts."
   ]
  },
  {
   "cell_type": "code",
   "execution_count": null,
   "id": "nHfw",
   "metadata": {
    "marimo": {
     "config": {
      "hide_code": true
     }
    }
   },
   "outputs": [],
   "source": [
    "tips = {\n",
    "    \"Saving\": (\n",
    "        \"\"\"\n",
    "        **Saving**\n",
    "\n",
    "        - _Name_ your app using the box at the top of the screen, or\n",
    "          with `Ctrl/Cmd+s`. You can also create a named app at the\n",
    "          command line, e.g., `marimo edit app_name.py`.\n",
    "\n",
    "        - _Save_ by clicking the save icon on the bottom right, or by\n",
    "          inputting `Ctrl/Cmd+s`. By default marimo is configured\n",
    "          to autosave.\n",
    "        \"\"\"\n",
    "    ),\n",
    "    \"Running\": (\n",
    "        \"\"\"\n",
    "        1. _Run a cell_ by clicking the play ( ▷ ) button on the top\n",
    "        right of a cell, or by inputting `Ctrl/Cmd+Enter`.\n",
    "\n",
    "        2. _Run a stale cell_  by clicking the yellow run button on the\n",
    "        right of the cell, or by inputting `Ctrl/Cmd+Enter`. A cell is\n",
    "        stale when its code has been modified but not run.\n",
    "\n",
    "        3. _Run all stale cells_ by clicking the play ( ▷ ) button on\n",
    "        the bottom right of the screen, or input `Ctrl/Cmd+Shift+r`.\n",
    "        \"\"\"\n",
    "    ),\n",
    "    \"Console Output\": (\n",
    "        \"\"\"\n",
    "        Console output (e.g., `print()` statements) is shown below a\n",
    "        cell.\n",
    "        \"\"\"\n",
    "    ),\n",
    "    \"Creating, Moving, and Deleting Cells\": (\n",
    "        \"\"\"\n",
    "        1. _Create_ a new cell above or below a given one by clicking\n",
    "            the plus button to the left of the cell, which appears on\n",
    "            mouse hover.\n",
    "\n",
    "        2. _Move_ a cell up or down by dragging on the handle to the \n",
    "            right of the cell, which appears on mouse hover.\n",
    "\n",
    "        3. _Delete_ a cell by clicking the trash bin icon. Bring it\n",
    "            back by clicking the undo button on the bottom right of the\n",
    "            screen, or with `Ctrl/Cmd+Shift+z`.\n",
    "        \"\"\"\n",
    "    ),\n",
    "    \"Disabling Automatic Execution\": (\n",
    "        \"\"\"\n",
    "        Via the notebook settings (gear icon) or footer panel, you\n",
    "        can disable automatic execution. This is helpful when\n",
    "        working with expensive notebooks or notebooks that have\n",
    "        side-effects like database transactions.\n",
    "        \"\"\"\n",
    "    ),\n",
    "    \"Disabling Cells\": (\n",
    "        \"\"\"\n",
    "        You can disable a cell via the cell context menu.\n",
    "        marimo will never run a disabled cell or any cells that depend on it.\n",
    "        This can help prevent accidental execution of expensive computations\n",
    "        when editing a notebook.\n",
    "        \"\"\"\n",
    "    ),\n",
    "    \"Code Folding\": (\n",
    "        \"\"\"\n",
    "        You can collapse or fold the code in a cell by clicking the arrow\n",
    "        icons in the line number column to the left, or by using keyboard\n",
    "        shortcuts.\n",
    "\n",
    "        Use the command palette (`Ctrl/Cmd+k`) or a keyboard shortcut to\n",
    "        quickly fold or unfold all cells.\n",
    "        \"\"\"\n",
    "    ),\n",
    "    \"Code Formatting\": (\n",
    "        \"\"\"\n",
    "        If you have [ruff](https://github.com/astral-sh/ruff) installed,\n",
    "        you can format a cell with the keyboard shortcut `Ctrl/Cmd+b`.\n",
    "        \"\"\"\n",
    "    ),\n",
    "    \"Command Palette\": (\n",
    "        \"\"\"\n",
    "        Use `Ctrl/Cmd+k` to open the command palette.\n",
    "        \"\"\"\n",
    "    ),\n",
    "    \"Keyboard Shortcuts\": (\n",
    "        \"\"\"\n",
    "        Open the notebook menu (top-right) or input `Ctrl/Cmd+Shift+h` to\n",
    "        view a list of all keyboard shortcuts.\n",
    "        \"\"\"\n",
    "    ),\n",
    "    \"Configuration\": (\n",
    "        \"\"\"\n",
    "       Configure the editor by clicking the gears icon near the top-right\n",
    "       of the screen.\n",
    "       \"\"\"\n",
    "    ),\n",
    "    \"Exit & Shutdown\": (\n",
    "        \"\"\"\n",
    "       You can leave Marimo & shut down the server by clicking the\n",
    "       circled X at the top right of the screen and responding\n",
    "       to the prompt. \n",
    "\n",
    "       :floppy_disk: _Be sure to save your work first!_ \n",
    "       \"\"\"\n",
    "    ),\n",
    "}"
   ]
  }
 ],
 "metadata": {},
 "nbformat": 4,
 "nbformat_minor": 5
}
